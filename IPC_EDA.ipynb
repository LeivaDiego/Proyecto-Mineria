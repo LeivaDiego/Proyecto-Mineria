{
 "cells": [
  {
   "cell_type": "markdown",
   "metadata": {},
   "source": [
    "# Proyecto Mineria de Datos\n",
    "## Indice de Precios al Consumidor\n",
    "---\n",
    "**Integrantes**\n",
    "- Maria Marta Ramirez Gil\n",
    "- Gustavo Andres Gonzalez Pineda \n",
    "- Diego Alberto Leiva Pérez \n",
    "- José Pablo Orellana Orellana \n",
    "- Gabriel Estuardo García Donis \n",
    "---"
   ]
  },
  {
   "cell_type": "markdown",
   "metadata": {},
   "source": [
    "### Introducción"
   ]
  },
  {
   "cell_type": "markdown",
   "metadata": {},
   "source": [
    "El Índice de Precios al Consumidor (IPC) mide la evolución de los precios de una canasta de bienes y servicios representativa del patrón de consumo de los habitantes de cada país.\n",
    "El IPC es fundamental para entender la economía del país, ya que proporciona una visión clara de la inflación del país, un fenómeno que afecta de forma directa el poder adquisitivo de su población, y por consiguiente su calidad de vida.\n",
    "\n",
    "Al analizar el histórico del IPC de Guatemala, se esperan poder identificar tendencias y patrones de evolución de los precios que afectan a diferentes regiones de la república y sectores económicos. \n",
    "\n",
    "El Instituto Nacional de Estadística (INE) desglosa este índice por productos y regiones geográficas, asi como por mes y año."
   ]
  },
  {
   "cell_type": "markdown",
   "metadata": {},
   "source": [
    "## Análisis Exploratorio"
   ]
  },
  {
   "cell_type": "markdown",
   "metadata": {},
   "source": [
    "**Importar liberias**"
   ]
  },
  {
   "cell_type": "code",
   "execution_count": 1,
   "metadata": {},
   "outputs": [],
   "source": [
    "import pandas as pd\n",
    "import numpy as np\n",
    "import matplotlib.pyplot as plt\n",
    "import seaborn as sns\n",
    "import os\n",
    "\n",
    "# Normalizacion de strings\n",
    "import unidecode"
   ]
  },
  {
   "cell_type": "markdown",
   "metadata": {},
   "source": [
    "**Cargar los datos y unificarlos**"
   ]
  },
  {
   "cell_type": "code",
   "execution_count": 2,
   "metadata": {},
   "outputs": [],
   "source": [
    "path = './Data/'\n",
    "\n",
    "data_frames = []\n",
    "\n",
    "for filename in os.listdir(path):\n",
    "    if filename.endswith('.xls'):\n",
    "        # Construir la ruta completa al archivo\n",
    "        file_path = os.path.join(path, filename)\n",
    "        # Leer el archivo excel y agregar el dataframe a la lista\n",
    "        data_frames.append(pd.read_excel(file_path))\n",
    "\n",
    "# Concatenar todos los dfs en uno solo\n",
    "data = pd.concat(data_frames, ignore_index=True)"
   ]
  },
  {
   "cell_type": "markdown",
   "metadata": {},
   "source": [
    "**Visualizar estructura e información general del dataset**"
   ]
  },
  {
   "cell_type": "code",
   "execution_count": 3,
   "metadata": {},
   "outputs": [
    {
     "name": "stdout",
     "output_type": "stream",
     "text": [
      "<class 'pandas.core.frame.DataFrame'>\n",
      "RangeIndex: 69406 entries, 0 to 69405\n",
      "Data columns (total 13 columns):\n",
      " #   Column       Non-Null Count  Dtype  \n",
      "---  ------       --------------  -----  \n",
      " 0   Año          69406 non-null  int64  \n",
      " 1   Mes          69406 non-null  object \n",
      " 2   Código       69406 non-null  int64  \n",
      " 3   Descripción  69406 non-null  object \n",
      " 4   Rep.         69406 non-null  float64\n",
      " 5   Reg. I       69406 non-null  float64\n",
      " 6   Reg. II      69406 non-null  float64\n",
      " 7   Reg. III     69406 non-null  float64\n",
      " 8   Reg. IV      69406 non-null  float64\n",
      " 9   Reg. V       69406 non-null  float64\n",
      " 10  Reg. VI      69406 non-null  float64\n",
      " 11  Reg. VII     69406 non-null  float64\n",
      " 12  Reg. VIII    69406 non-null  float64\n",
      "dtypes: float64(9), int64(2), object(2)\n",
      "memory usage: 6.9+ MB\n"
     ]
    }
   ],
   "source": [
    "data.info()"
   ]
  },
  {
   "cell_type": "code",
   "execution_count": 4,
   "metadata": {},
   "outputs": [
    {
     "data": {
      "text/plain": [
       "(69406, 13)"
      ]
     },
     "execution_count": 4,
     "metadata": {},
     "output_type": "execute_result"
    }
   ],
   "source": [
    "data.shape"
   ]
  },
  {
   "cell_type": "markdown",
   "metadata": {},
   "source": [
    "13 columnas y 69,406 registros"
   ]
  },
  {
   "cell_type": "code",
   "execution_count": 5,
   "metadata": {},
   "outputs": [
    {
     "data": {
      "text/html": [
       "<div>\n",
       "<style scoped>\n",
       "    .dataframe tbody tr th:only-of-type {\n",
       "        vertical-align: middle;\n",
       "    }\n",
       "\n",
       "    .dataframe tbody tr th {\n",
       "        vertical-align: top;\n",
       "    }\n",
       "\n",
       "    .dataframe thead th {\n",
       "        text-align: right;\n",
       "    }\n",
       "</style>\n",
       "<table border=\"1\" class=\"dataframe\">\n",
       "  <thead>\n",
       "    <tr style=\"text-align: right;\">\n",
       "      <th></th>\n",
       "      <th>Año</th>\n",
       "      <th>Mes</th>\n",
       "      <th>Código</th>\n",
       "      <th>Descripción</th>\n",
       "      <th>Rep.</th>\n",
       "      <th>Reg. I</th>\n",
       "      <th>Reg. II</th>\n",
       "      <th>Reg. III</th>\n",
       "      <th>Reg. IV</th>\n",
       "      <th>Reg. V</th>\n",
       "      <th>Reg. VI</th>\n",
       "      <th>Reg. VII</th>\n",
       "      <th>Reg. VIII</th>\n",
       "    </tr>\n",
       "  </thead>\n",
       "  <tbody>\n",
       "    <tr>\n",
       "      <th>0</th>\n",
       "      <td>2001</td>\n",
       "      <td>Enero</td>\n",
       "      <td>0</td>\n",
       "      <td>INDICE GENERAL</td>\n",
       "      <td>101.370000</td>\n",
       "      <td>101.460000</td>\n",
       "      <td>101.900000</td>\n",
       "      <td>101.620000</td>\n",
       "      <td>101.150000</td>\n",
       "      <td>101.140000</td>\n",
       "      <td>100.990000</td>\n",
       "      <td>100.840000</td>\n",
       "      <td>100.810000</td>\n",
       "    </tr>\n",
       "    <tr>\n",
       "      <th>1</th>\n",
       "      <td>2001</td>\n",
       "      <td>Enero</td>\n",
       "      <td>1</td>\n",
       "      <td>ALIMENTOS, BEBIDAS NO ALCOHOLICAS Y COMIDAS FU...</td>\n",
       "      <td>101.610000</td>\n",
       "      <td>101.880000</td>\n",
       "      <td>102.130000</td>\n",
       "      <td>102.050000</td>\n",
       "      <td>100.570000</td>\n",
       "      <td>101.510000</td>\n",
       "      <td>100.530000</td>\n",
       "      <td>100.710000</td>\n",
       "      <td>101.200000</td>\n",
       "    </tr>\n",
       "    <tr>\n",
       "      <th>2</th>\n",
       "      <td>2001</td>\n",
       "      <td>Enero</td>\n",
       "      <td>11111</td>\n",
       "      <td>ARROZ                                         ...</td>\n",
       "      <td>100.551867</td>\n",
       "      <td>100.587352</td>\n",
       "      <td>100.533814</td>\n",
       "      <td>101.179906</td>\n",
       "      <td>99.999999</td>\n",
       "      <td>100.163800</td>\n",
       "      <td>100.804220</td>\n",
       "      <td>100.072486</td>\n",
       "      <td>99.554435</td>\n",
       "    </tr>\n",
       "    <tr>\n",
       "      <th>3</th>\n",
       "      <td>2001</td>\n",
       "      <td>Enero</td>\n",
       "      <td>11121</td>\n",
       "      <td>PAN                                           ...</td>\n",
       "      <td>103.232662</td>\n",
       "      <td>104.553760</td>\n",
       "      <td>105.683420</td>\n",
       "      <td>100.009972</td>\n",
       "      <td>101.522448</td>\n",
       "      <td>96.854252</td>\n",
       "      <td>100.946695</td>\n",
       "      <td>102.449641</td>\n",
       "      <td>102.959418</td>\n",
       "    </tr>\n",
       "    <tr>\n",
       "      <th>4</th>\n",
       "      <td>2001</td>\n",
       "      <td>Enero</td>\n",
       "      <td>11131</td>\n",
       "      <td>PASTAS FRESCAS Y SECAS                        ...</td>\n",
       "      <td>101.660475</td>\n",
       "      <td>102.401848</td>\n",
       "      <td>102.524075</td>\n",
       "      <td>101.155608</td>\n",
       "      <td>100.618450</td>\n",
       "      <td>100.250022</td>\n",
       "      <td>101.049645</td>\n",
       "      <td>101.084236</td>\n",
       "      <td>102.817706</td>\n",
       "    </tr>\n",
       "  </tbody>\n",
       "</table>\n",
       "</div>"
      ],
      "text/plain": [
       "    Año    Mes  Código                                        Descripción  \\\n",
       "0  2001  Enero       0                                     INDICE GENERAL   \n",
       "1  2001  Enero       1  ALIMENTOS, BEBIDAS NO ALCOHOLICAS Y COMIDAS FU...   \n",
       "2  2001  Enero   11111  ARROZ                                         ...   \n",
       "3  2001  Enero   11121  PAN                                           ...   \n",
       "4  2001  Enero   11131  PASTAS FRESCAS Y SECAS                        ...   \n",
       "\n",
       "         Rep.      Reg. I     Reg. II    Reg. III     Reg. IV      Reg. V  \\\n",
       "0  101.370000  101.460000  101.900000  101.620000  101.150000  101.140000   \n",
       "1  101.610000  101.880000  102.130000  102.050000  100.570000  101.510000   \n",
       "2  100.551867  100.587352  100.533814  101.179906   99.999999  100.163800   \n",
       "3  103.232662  104.553760  105.683420  100.009972  101.522448   96.854252   \n",
       "4  101.660475  102.401848  102.524075  101.155608  100.618450  100.250022   \n",
       "\n",
       "      Reg. VI    Reg. VII   Reg. VIII  \n",
       "0  100.990000  100.840000  100.810000  \n",
       "1  100.530000  100.710000  101.200000  \n",
       "2  100.804220  100.072486   99.554435  \n",
       "3  100.946695  102.449641  102.959418  \n",
       "4  101.049645  101.084236  102.817706  "
      ]
     },
     "execution_count": 5,
     "metadata": {},
     "output_type": "execute_result"
    }
   ],
   "source": [
    "data.head()"
   ]
  },
  {
   "cell_type": "markdown",
   "metadata": {},
   "source": [
    "**Variables Identificadas:**\n",
    "- Año: Representa el año en que se recopilaron los datos.\n",
    "- Mes: Indica el mes correspondiente a cada registro.\n",
    "- Código: Identificador numérico para cada producto o categoría de productos.\n",
    "- Descripción: Detalle sobre el producto o categoría de productos al que se refiere el índice de precios.\n",
    "- Rep.: Valor representativo para todo el país\n",
    "- Reg. I: Valor representativo de la región Metropolitana.\n",
    "- Reg. II: Valor representativo de la región Norte.\n",
    "- Reg. III: Valor representativo de la región Nororiental.\n",
    "- Reg. IV: Valor representativo de la región Suroriental.\n",
    "- Reg. V: Valor representativo de la región Central.\n",
    "- Reg. VI: Valor representativo de la región Suroccidental.\n",
    "- Reg. VII: Valor representativo de la región Noroccidental.\n",
    "- Reg. VIII: Valor representativo de la región Petén."
   ]
  },
  {
   "cell_type": "markdown",
   "metadata": {},
   "source": [
    "Las variables año, mes, codigo y registro son variables categóricas.\n",
    "\n",
    "Las variables de regiones son númericas ya que contienen valores de los índices respectivos."
   ]
  },
  {
   "cell_type": "markdown",
   "metadata": {},
   "source": [
    "**Verificar existencia de valores nulos**"
   ]
  },
  {
   "cell_type": "code",
   "execution_count": 6,
   "metadata": {},
   "outputs": [
    {
     "data": {
      "text/plain": [
       "Año            0\n",
       "Mes            0\n",
       "Código         0\n",
       "Descripción    0\n",
       "Rep.           0\n",
       "Reg. I         0\n",
       "Reg. II        0\n",
       "Reg. III       0\n",
       "Reg. IV        0\n",
       "Reg. V         0\n",
       "Reg. VI        0\n",
       "Reg. VII       0\n",
       "Reg. VIII      0\n",
       "dtype: int64"
      ]
     },
     "execution_count": 6,
     "metadata": {},
     "output_type": "execute_result"
    }
   ],
   "source": [
    "data.isnull().sum()"
   ]
  },
  {
   "cell_type": "markdown",
   "metadata": {},
   "source": [
    "No hay valores faltantes o nulos.\n",
    "De haber sido el caso contrario, entonces habría sido necesario analizar cuál es la proporción de nulos, y basado en ello eliminarlos (de ser una proporción mínima), de lo contrario sería necesario imputar 0 para variables numéricas, o imputar la moda para variables categóricas."
   ]
  },
  {
   "cell_type": "markdown",
   "metadata": {},
   "source": [
    "**Columnas con nombres mas practicos**"
   ]
  },
  {
   "cell_type": "code",
   "execution_count": 7,
   "metadata": {},
   "outputs": [],
   "source": [
    "new_names = {\n",
    "    'Año': 'anio',\n",
    "    'Mes': 'mes',\n",
    "    'Código': 'codigo',\n",
    "    'Descripción': 'descripcion',\n",
    "    'Rep.': 'pais',\n",
    "    'Reg. I': 'region1',\n",
    "    'Reg. II': 'region2',\n",
    "    'Reg. III': 'region3',\n",
    "    'Reg. IV': 'region4',\n",
    "    'Reg. V': 'region5',\n",
    "    'Reg. VI': 'region6',\n",
    "    'Reg. VII': 'region7',\n",
    "    'Reg. VIII': 'region8',\n",
    "}\n",
    "\n",
    "data.rename(columns=new_names, inplace=True)"
   ]
  },
  {
   "cell_type": "markdown",
   "metadata": {},
   "source": [
    "**Estandarizacion de texto**"
   ]
  },
  {
   "cell_type": "code",
   "execution_count": 8,
   "metadata": {},
   "outputs": [],
   "source": [
    "def standarize_str(input_str):\n",
    "    \"\"\"\n",
    "    Funcion que toma un string y realiza estandarizacion removiendo tildes \n",
    "    y convirtiendolo a minusculas.\n",
    "\n",
    "    Parameters:\n",
    "    input_str (str): El string a procesar.\n",
    "\n",
    "    Returns:\n",
    "    str: El string estandarizado (sin tildes y en minuscula).\n",
    "    \"\"\"\n",
    "    standar_str = unidecode.unidecode(input_str)\n",
    "    standar_str = standar_str.lower()\n",
    "    return standar_str"
   ]
  },
  {
   "cell_type": "code",
   "execution_count": 9,
   "metadata": {},
   "outputs": [],
   "source": [
    "# Columnas categoricas con strings a normalizar\n",
    "colums = ['mes','descripcion']\n",
    "\n",
    "# Normalizar strings\n",
    "for col in colums:\n",
    "    data[col] = data[col].apply(standarize_str)"
   ]
  },
  {
   "cell_type": "code",
   "execution_count": 10,
   "metadata": {},
   "outputs": [],
   "source": [
    "# Columnas numericas que se deben convertir a categoricas\n",
    "colums = ['anio','codigo']\n",
    "\n",
    "# Convertir a categoricas\n",
    "for col in colums:\n",
    "    data[col] = data[col].astype(str)\n",
    "\n",
    "# Rellenar con ceros a la izquierda en la columna codigo\n",
    "data['codigo'] = data['codigo'].str.zfill(2)"
   ]
  },
  {
   "cell_type": "code",
   "execution_count": 11,
   "metadata": {},
   "outputs": [
    {
     "data": {
      "text/html": [
       "<div>\n",
       "<style scoped>\n",
       "    .dataframe tbody tr th:only-of-type {\n",
       "        vertical-align: middle;\n",
       "    }\n",
       "\n",
       "    .dataframe tbody tr th {\n",
       "        vertical-align: top;\n",
       "    }\n",
       "\n",
       "    .dataframe thead th {\n",
       "        text-align: right;\n",
       "    }\n",
       "</style>\n",
       "<table border=\"1\" class=\"dataframe\">\n",
       "  <thead>\n",
       "    <tr style=\"text-align: right;\">\n",
       "      <th></th>\n",
       "      <th>anio</th>\n",
       "      <th>mes</th>\n",
       "      <th>codigo</th>\n",
       "      <th>descripcion</th>\n",
       "      <th>pais</th>\n",
       "      <th>region1</th>\n",
       "      <th>region2</th>\n",
       "      <th>region3</th>\n",
       "      <th>region4</th>\n",
       "      <th>region5</th>\n",
       "      <th>region6</th>\n",
       "      <th>region7</th>\n",
       "      <th>region8</th>\n",
       "    </tr>\n",
       "  </thead>\n",
       "  <tbody>\n",
       "    <tr>\n",
       "      <th>0</th>\n",
       "      <td>2001</td>\n",
       "      <td>enero</td>\n",
       "      <td>00</td>\n",
       "      <td>indice general</td>\n",
       "      <td>101.370000</td>\n",
       "      <td>101.460000</td>\n",
       "      <td>101.900000</td>\n",
       "      <td>101.620000</td>\n",
       "      <td>101.150000</td>\n",
       "      <td>101.140000</td>\n",
       "      <td>100.990000</td>\n",
       "      <td>100.840000</td>\n",
       "      <td>100.810000</td>\n",
       "    </tr>\n",
       "    <tr>\n",
       "      <th>1</th>\n",
       "      <td>2001</td>\n",
       "      <td>enero</td>\n",
       "      <td>01</td>\n",
       "      <td>alimentos, bebidas no alcoholicas y comidas fu...</td>\n",
       "      <td>101.610000</td>\n",
       "      <td>101.880000</td>\n",
       "      <td>102.130000</td>\n",
       "      <td>102.050000</td>\n",
       "      <td>100.570000</td>\n",
       "      <td>101.510000</td>\n",
       "      <td>100.530000</td>\n",
       "      <td>100.710000</td>\n",
       "      <td>101.200000</td>\n",
       "    </tr>\n",
       "    <tr>\n",
       "      <th>2</th>\n",
       "      <td>2001</td>\n",
       "      <td>enero</td>\n",
       "      <td>11111</td>\n",
       "      <td>arroz                                         ...</td>\n",
       "      <td>100.551867</td>\n",
       "      <td>100.587352</td>\n",
       "      <td>100.533814</td>\n",
       "      <td>101.179906</td>\n",
       "      <td>99.999999</td>\n",
       "      <td>100.163800</td>\n",
       "      <td>100.804220</td>\n",
       "      <td>100.072486</td>\n",
       "      <td>99.554435</td>\n",
       "    </tr>\n",
       "    <tr>\n",
       "      <th>3</th>\n",
       "      <td>2001</td>\n",
       "      <td>enero</td>\n",
       "      <td>11121</td>\n",
       "      <td>pan                                           ...</td>\n",
       "      <td>103.232662</td>\n",
       "      <td>104.553760</td>\n",
       "      <td>105.683420</td>\n",
       "      <td>100.009972</td>\n",
       "      <td>101.522448</td>\n",
       "      <td>96.854252</td>\n",
       "      <td>100.946695</td>\n",
       "      <td>102.449641</td>\n",
       "      <td>102.959418</td>\n",
       "    </tr>\n",
       "    <tr>\n",
       "      <th>4</th>\n",
       "      <td>2001</td>\n",
       "      <td>enero</td>\n",
       "      <td>11131</td>\n",
       "      <td>pastas frescas y secas                        ...</td>\n",
       "      <td>101.660475</td>\n",
       "      <td>102.401848</td>\n",
       "      <td>102.524075</td>\n",
       "      <td>101.155608</td>\n",
       "      <td>100.618450</td>\n",
       "      <td>100.250022</td>\n",
       "      <td>101.049645</td>\n",
       "      <td>101.084236</td>\n",
       "      <td>102.817706</td>\n",
       "    </tr>\n",
       "  </tbody>\n",
       "</table>\n",
       "</div>"
      ],
      "text/plain": [
       "   anio    mes codigo                                        descripcion  \\\n",
       "0  2001  enero     00                                     indice general   \n",
       "1  2001  enero     01  alimentos, bebidas no alcoholicas y comidas fu...   \n",
       "2  2001  enero  11111  arroz                                         ...   \n",
       "3  2001  enero  11121  pan                                           ...   \n",
       "4  2001  enero  11131  pastas frescas y secas                        ...   \n",
       "\n",
       "         pais     region1     region2     region3     region4     region5  \\\n",
       "0  101.370000  101.460000  101.900000  101.620000  101.150000  101.140000   \n",
       "1  101.610000  101.880000  102.130000  102.050000  100.570000  101.510000   \n",
       "2  100.551867  100.587352  100.533814  101.179906   99.999999  100.163800   \n",
       "3  103.232662  104.553760  105.683420  100.009972  101.522448   96.854252   \n",
       "4  101.660475  102.401848  102.524075  101.155608  100.618450  100.250022   \n",
       "\n",
       "      region6     region7     region8  \n",
       "0  100.990000  100.840000  100.810000  \n",
       "1  100.530000  100.710000  101.200000  \n",
       "2  100.804220  100.072486   99.554435  \n",
       "3  100.946695  102.449641  102.959418  \n",
       "4  101.049645  101.084236  102.817706  "
      ]
     },
     "execution_count": 11,
     "metadata": {},
     "output_type": "execute_result"
    }
   ],
   "source": [
    "data.head()"
   ]
  },
  {
   "cell_type": "code",
   "execution_count": 12,
   "metadata": {},
   "outputs": [
    {
     "name": "stdout",
     "output_type": "stream",
     "text": [
      "<class 'pandas.core.frame.DataFrame'>\n",
      "RangeIndex: 69406 entries, 0 to 69405\n",
      "Data columns (total 13 columns):\n",
      " #   Column       Non-Null Count  Dtype  \n",
      "---  ------       --------------  -----  \n",
      " 0   anio         69406 non-null  object \n",
      " 1   mes          69406 non-null  object \n",
      " 2   codigo       69406 non-null  object \n",
      " 3   descripcion  69406 non-null  object \n",
      " 4   pais         69406 non-null  float64\n",
      " 5   region1      69406 non-null  float64\n",
      " 6   region2      69406 non-null  float64\n",
      " 7   region3      69406 non-null  float64\n",
      " 8   region4      69406 non-null  float64\n",
      " 9   region5      69406 non-null  float64\n",
      " 10  region6      69406 non-null  float64\n",
      " 11  region7      69406 non-null  float64\n",
      " 12  region8      69406 non-null  float64\n",
      "dtypes: float64(9), object(4)\n",
      "memory usage: 6.9+ MB\n"
     ]
    }
   ],
   "source": [
    "data.info()"
   ]
  }
 ],
 "metadata": {
  "kernelspec": {
   "display_name": "Python 3 (ipykernel)",
   "language": "python",
   "name": "python3"
  },
  "language_info": {
   "codemirror_mode": {
    "name": "ipython",
    "version": 3
   },
   "file_extension": ".py",
   "mimetype": "text/x-python",
   "name": "python",
   "nbconvert_exporter": "python",
   "pygments_lexer": "ipython3",
   "version": "3.11.6"
  }
 },
 "nbformat": 4,
 "nbformat_minor": 4
}
