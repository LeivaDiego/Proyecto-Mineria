{
 "cells": [
  {
   "cell_type": "markdown",
   "metadata": {},
   "source": [
    "# Proyecto Mineria de Datos\n",
    "## Indice de Precios al Consumidor"
   ]
  },
  {
   "cell_type": "markdown",
   "metadata": {},
   "source": [
    "**Importar liberias**"
   ]
  },
  {
   "cell_type": "code",
   "execution_count": 25,
   "metadata": {},
   "outputs": [],
   "source": [
    "import pandas as pd\n",
    "import numpy as np\n",
    "import matplotlib.pyplot as plt\n",
    "import seaborn as sns"
   ]
  },
  {
   "cell_type": "markdown",
   "metadata": {},
   "source": [
    "**Cargar los datasets al entorno**"
   ]
  },
  {
   "cell_type": "code",
   "execution_count": 26,
   "metadata": {},
   "outputs": [],
   "source": [
    "df2001 = pd.DataFrame(pd.read_excel('Data/IPC 2001.xls'))\n",
    "df2002 = pd.DataFrame(pd.read_excel('Data/IPC 2002.xls'))\n",
    "df2003 = pd.DataFrame(pd.read_excel('Data/IPC 2003.xls'))\n",
    "df2004 = pd.DataFrame(pd.read_excel('Data/IPC 2004.xls'))\n",
    "df2005 = pd.DataFrame(pd.read_excel('Data/IPC 2005.xls'))\n",
    "df2006 = pd.DataFrame(pd.read_excel('Data/IPC 2006.xls'))\n",
    "df2007 = pd.DataFrame(pd.read_excel('Data/IPC 2007.xls'))\n",
    "df2008 = pd.DataFrame(pd.read_excel('Data/IPC 2008.xls'))\n",
    "df2009 = pd.DataFrame(pd.read_excel('Data/IPC 2009.xls'))\n",
    "df2010 = pd.DataFrame(pd.read_excel('Data/IPC 2010.xls'))\n",
    "df2011 = pd.DataFrame(pd.read_excel('Data/IPC 2011.xls'))\n",
    "df2012 = pd.DataFrame(pd.read_excel('Data/IPC 2012.xls'))\n",
    "df2013 = pd.DataFrame(pd.read_excel('Data/IPC 2013.xls'))\n",
    "df2014 = pd.DataFrame(pd.read_excel('Data/IPC 2014.xls'))\n",
    "df2015 = pd.DataFrame(pd.read_excel('Data/IPC 2015.xls'))\n",
    "df2016 = pd.DataFrame(pd.read_excel('Data/IPC 2016.xls'))\n",
    "df2017 = pd.DataFrame(pd.read_excel('Data/IPC 2017.xls'))\n",
    "df2018 = pd.DataFrame(pd.read_excel('Data/IPC 2018.xls'))\n",
    "df2019 = pd.DataFrame(pd.read_excel('Data/IPC 2019.xls'))\n",
    "df2020 = pd.DataFrame(pd.read_excel('Data/IPC 2020.xls'))\n",
    "df2021 = pd.DataFrame(pd.read_excel('Data/IPC 2021.xls'))\n",
    "df2022 = pd.DataFrame(pd.read_excel('Data/IPC 2022.xls'))"
   ]
  }
 ],
 "metadata": {
  "kernelspec": {
   "display_name": "venv",
   "language": "python",
   "name": "python3"
  },
  "language_info": {
   "codemirror_mode": {
    "name": "ipython",
    "version": 3
   },
   "file_extension": ".py",
   "mimetype": "text/x-python",
   "name": "python",
   "nbconvert_exporter": "python",
   "pygments_lexer": "ipython3",
   "version": "3.11.6"
  }
 },
 "nbformat": 4,
 "nbformat_minor": 2
}
