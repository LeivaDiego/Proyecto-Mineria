{
 "cells": [
  {
   "cell_type": "markdown",
   "metadata": {},
   "source": [
    "# Proyecto Mineria de Datos\n",
    "## Indice de Precios al Consumidor"
   ]
  },
  {
   "cell_type": "markdown",
   "metadata": {},
   "source": [
    "**Importar liberias**"
   ]
  },
  {
   "cell_type": "code",
   "execution_count": 1,
   "metadata": {},
   "outputs": [],
   "source": [
    "import pandas as pd\n",
    "import numpy as np\n",
    "import matplotlib.pyplot as plt\n",
    "import seaborn as sns\n",
    "import os"
   ]
  },
  {
   "cell_type": "code",
   "execution_count": 38,
   "metadata": {},
   "outputs": [
    {
     "name": "stdout",
     "output_type": "stream",
     "text": [
      "Lista de dataframes creada...\n",
      "Columna de años añadida...\n",
      "Nombres de columnas añadidos...\n",
      "Dataframes concatenados concluidos...\n"
     ]
    }
   ],
   "source": [
    "directory = './Data/'\n",
    "files = os.listdir(directory)\n",
    "dataframes = []\n",
    "years = []\n",
    "col_names = []\n",
    "\n",
    "for filename in files:\n",
    "    year = filename[4:-4]\n",
    "    years.append(year)\n",
    "    df = pd.DataFrame(pd.read_excel(directory + filename))\n",
    "    dataframes.append(df)\n",
    "print(\"Lista de dataframes creada...\")\n",
    "\n",
    "for index in range(len(dataframes)):\n",
    "    dataframe = dataframes[index]\n",
    "    df_len = len(dataframe)    \n",
    "    dataframes[index] = dataframe    \n",
    "print(\"Columna de años añadida...\")\n",
    "\n",
    "col_names = list(dataframes[0].columns)\n",
    "print(\"Nombres de columnas añadidos...\")\n",
    "for index in range(len(dataframes)):\n",
    "    df = dataframes[index]\n",
    "    df.columns = col_names\n",
    "\n",
    "df = pd.concat(dataframes, axis=0)\n",
    "print(\"Dataframes concatenados concluidos...\")\n",
    "df.to_csv('Data/concatenated_data.csv')\n"
   ]
  },
  {
   "cell_type": "markdown",
   "metadata": {},
   "source": [
    "**Cargar los datasets al entorno**"
   ]
  },
  {
   "cell_type": "code",
   "execution_count": null,
   "metadata": {},
   "outputs": [],
   "source": []
  },
  {
   "cell_type": "code",
   "execution_count": null,
   "metadata": {},
   "outputs": [],
   "source": []
  }
 ],
 "metadata": {
  "kernelspec": {
   "display_name": "venv",
   "language": "python",
   "name": "python3"
  },
  "language_info": {
   "codemirror_mode": {
    "name": "ipython",
    "version": 3
   },
   "file_extension": ".py",
   "mimetype": "text/x-python",
   "name": "python",
   "nbconvert_exporter": "python",
   "pygments_lexer": "ipython3",
   "version": "3.9.2"
  }
 },
 "nbformat": 4,
 "nbformat_minor": 2
}
