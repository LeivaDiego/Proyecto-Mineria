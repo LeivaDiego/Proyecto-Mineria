{
 "cells": [
  {
   "cell_type": "markdown",
   "metadata": {},
   "source": [
    "# Proyecto Mineria de Datos\n",
    "## Indice de Precios al Consumidor"
   ]
  },
  {
   "cell_type": "markdown",
   "metadata": {},
   "source": [
    "**Importar liberias**"
   ]
  },
  {
   "cell_type": "code",
   "execution_count": 1,
   "metadata": {},
   "outputs": [],
   "source": [
    "import pandas as pd\n",
    "import numpy as np\n",
    "import matplotlib.pyplot as plt\n",
    "import seaborn as sns\n",
    "import os"
   ]
  },
  {
   "cell_type": "code",
   "execution_count": 2,
   "metadata": {},
   "outputs": [
    {
     "name": "stdout",
     "output_type": "stream",
     "text": [
      "Lista de dataframes creada...\n",
      "Columna de años añadida...\n",
      "Nombres de columnas añadidos...\n",
      "Dataframes concatenados concluidos...\n"
     ]
    }
   ],
   "source": [
    "directory = './Data/'\n",
    "files = os.listdir(directory)\n",
    "dataframes = []\n",
    "years = []\n",
    "col_names = []\n",
    "\n",
    "for filename in files:\n",
    "    year = filename[4:-4]\n",
    "    years.append(year)\n",
    "    df = pd.DataFrame(pd.read_excel(directory + filename))\n",
    "    dataframes.append(df)\n",
    "print(\"Lista de dataframes creada...\")\n",
    "\n",
    "for index in range(len(dataframes)):\n",
    "    dataframe = dataframes[index]\n",
    "    df_len = len(dataframe)    \n",
    "    dataframes[index] = dataframe    \n",
    "print(\"Columna de años añadida...\")\n",
    "\n",
    "col_names = list(dataframes[0].columns)\n",
    "print(\"Nombres de columnas añadidos...\")\n",
    "for index in range(len(dataframes)):\n",
    "    df = dataframes[index]\n",
    "    df.columns = col_names\n",
    "\n",
    "df = pd.concat(dataframes, axis=0)\n",
    "print(\"Dataframes concatenados concluidos...\")\n",
    "df.to_csv('Data/concatenated_data.csv')"
   ]
  },
  {
   "cell_type": "markdown",
   "metadata": {},
   "source": [
    "**Cargar los datasets al entorno**"
   ]
  },
  {
   "cell_type": "markdown",
   "metadata": {},
   "source": [
    "-------\n",
    "## Análisis Exploratorio"
   ]
  },
  {
   "cell_type": "markdown",
   "metadata": {},
   "source": [
    "----------\n",
    "**Carga del dataset**"
   ]
  },
  {
   "cell_type": "code",
   "execution_count": 5,
   "metadata": {},
   "outputs": [],
   "source": [
    "df = pd.read_csv('concatenated_data.csv', sep=',')"
   ]
  },
  {
   "cell_type": "markdown",
   "metadata": {},
   "source": [
    "**Visualizar estructura e información general del dataset**"
   ]
  },
  {
   "cell_type": "code",
   "execution_count": 6,
   "metadata": {},
   "outputs": [
    {
     "name": "stdout",
     "output_type": "stream",
     "text": [
      "<class 'pandas.core.frame.DataFrame'>\n",
      "RangeIndex: 69406 entries, 0 to 69405\n",
      "Data columns (total 14 columns):\n",
      " #   Column       Non-Null Count  Dtype  \n",
      "---  ------       --------------  -----  \n",
      " 0   Unnamed: 0   69406 non-null  int64  \n",
      " 1   Año          69406 non-null  int64  \n",
      " 2   Mes          69406 non-null  object \n",
      " 3   Código       69406 non-null  int64  \n",
      " 4   Descripción  69406 non-null  object \n",
      " 5   Rep.         69406 non-null  float64\n",
      " 6   Reg. I       69406 non-null  float64\n",
      " 7   Reg. II      69406 non-null  float64\n",
      " 8   Reg. III     69406 non-null  float64\n",
      " 9   Reg. IV      69406 non-null  float64\n",
      " 10  Reg. V       69406 non-null  float64\n",
      " 11  Reg. VI      69406 non-null  float64\n",
      " 12  Reg. VII     69406 non-null  float64\n",
      " 13  Reg. VIII    69406 non-null  float64\n",
      "dtypes: float64(9), int64(3), object(2)\n",
      "memory usage: 7.4+ MB\n"
     ]
    }
   ],
   "source": [
    "df.info()"
   ]
  },
  {
   "cell_type": "code",
   "execution_count": 7,
   "metadata": {},
   "outputs": [
    {
     "data": {
      "text/plain": [
       "(69406, 14)"
      ]
     },
     "execution_count": 7,
     "metadata": {},
     "output_type": "execute_result"
    }
   ],
   "source": [
    "df.shape"
   ]
  },
  {
   "cell_type": "markdown",
   "metadata": {},
   "source": [
    "14 columnas y 69,406 registros"
   ]
  },
  {
   "cell_type": "code",
   "execution_count": 10,
   "metadata": {},
   "outputs": [
    {
     "data": {
      "text/html": [
       "<div>\n",
       "<style scoped>\n",
       "    .dataframe tbody tr th:only-of-type {\n",
       "        vertical-align: middle;\n",
       "    }\n",
       "\n",
       "    .dataframe tbody tr th {\n",
       "        vertical-align: top;\n",
       "    }\n",
       "\n",
       "    .dataframe thead th {\n",
       "        text-align: right;\n",
       "    }\n",
       "</style>\n",
       "<table border=\"1\" class=\"dataframe\">\n",
       "  <thead>\n",
       "    <tr style=\"text-align: right;\">\n",
       "      <th></th>\n",
       "      <th>Unnamed: 0</th>\n",
       "      <th>Año</th>\n",
       "      <th>Mes</th>\n",
       "      <th>Código</th>\n",
       "      <th>Descripción</th>\n",
       "      <th>Rep.</th>\n",
       "      <th>Reg. I</th>\n",
       "      <th>Reg. II</th>\n",
       "      <th>Reg. III</th>\n",
       "      <th>Reg. IV</th>\n",
       "      <th>Reg. V</th>\n",
       "      <th>Reg. VI</th>\n",
       "      <th>Reg. VII</th>\n",
       "      <th>Reg. VIII</th>\n",
       "    </tr>\n",
       "  </thead>\n",
       "  <tbody>\n",
       "    <tr>\n",
       "      <th>0</th>\n",
       "      <td>0</td>\n",
       "      <td>2012</td>\n",
       "      <td>Enero</td>\n",
       "      <td>0</td>\n",
       "      <td>INDICE GENERAL</td>\n",
       "      <td>106.30</td>\n",
       "      <td>104.70</td>\n",
       "      <td>110.51</td>\n",
       "      <td>106.58</td>\n",
       "      <td>110.20</td>\n",
       "      <td>106.43</td>\n",
       "      <td>106.76</td>\n",
       "      <td>106.40</td>\n",
       "      <td>105.87</td>\n",
       "    </tr>\n",
       "    <tr>\n",
       "      <th>1</th>\n",
       "      <td>1</td>\n",
       "      <td>2012</td>\n",
       "      <td>Enero</td>\n",
       "      <td>1</td>\n",
       "      <td>ALIMENTOS Y BEBIDAS NO ALCOHÓLICAS            ...</td>\n",
       "      <td>111.91</td>\n",
       "      <td>109.47</td>\n",
       "      <td>118.92</td>\n",
       "      <td>111.87</td>\n",
       "      <td>120.07</td>\n",
       "      <td>111.14</td>\n",
       "      <td>109.97</td>\n",
       "      <td>112.97</td>\n",
       "      <td>110.52</td>\n",
       "    </tr>\n",
       "    <tr>\n",
       "      <th>2</th>\n",
       "      <td>2</td>\n",
       "      <td>2012</td>\n",
       "      <td>Enero</td>\n",
       "      <td>111101</td>\n",
       "      <td>ARROZ                                         ...</td>\n",
       "      <td>104.87</td>\n",
       "      <td>103.80</td>\n",
       "      <td>104.06</td>\n",
       "      <td>103.07</td>\n",
       "      <td>111.94</td>\n",
       "      <td>109.30</td>\n",
       "      <td>104.26</td>\n",
       "      <td>103.48</td>\n",
       "      <td>102.30</td>\n",
       "    </tr>\n",
       "    <tr>\n",
       "      <th>3</th>\n",
       "      <td>3</td>\n",
       "      <td>2012</td>\n",
       "      <td>Enero</td>\n",
       "      <td>111201</td>\n",
       "      <td>HARINA                                        ...</td>\n",
       "      <td>120.08</td>\n",
       "      <td>118.68</td>\n",
       "      <td>116.96</td>\n",
       "      <td>121.11</td>\n",
       "      <td>125.04</td>\n",
       "      <td>122.34</td>\n",
       "      <td>116.25</td>\n",
       "      <td>125.76</td>\n",
       "      <td>110.15</td>\n",
       "    </tr>\n",
       "    <tr>\n",
       "      <th>4</th>\n",
       "      <td>4</td>\n",
       "      <td>2012</td>\n",
       "      <td>Enero</td>\n",
       "      <td>111202</td>\n",
       "      <td>MAÍZ                                          ...</td>\n",
       "      <td>128.28</td>\n",
       "      <td>116.51</td>\n",
       "      <td>125.60</td>\n",
       "      <td>111.01</td>\n",
       "      <td>112.11</td>\n",
       "      <td>113.30</td>\n",
       "      <td>139.49</td>\n",
       "      <td>134.29</td>\n",
       "      <td>120.79</td>\n",
       "    </tr>\n",
       "  </tbody>\n",
       "</table>\n",
       "</div>"
      ],
      "text/plain": [
       "   Unnamed: 0   Año    Mes  Código  \\\n",
       "0           0  2012  Enero       0   \n",
       "1           1  2012  Enero       1   \n",
       "2           2  2012  Enero  111101   \n",
       "3           3  2012  Enero  111201   \n",
       "4           4  2012  Enero  111202   \n",
       "\n",
       "                                         Descripción    Rep.  Reg. I  Reg. II  \\\n",
       "0                                     INDICE GENERAL  106.30  104.70   110.51   \n",
       "1  ALIMENTOS Y BEBIDAS NO ALCOHÓLICAS            ...  111.91  109.47   118.92   \n",
       "2  ARROZ                                         ...  104.87  103.80   104.06   \n",
       "3  HARINA                                        ...  120.08  118.68   116.96   \n",
       "4  MAÍZ                                          ...  128.28  116.51   125.60   \n",
       "\n",
       "   Reg. III  Reg. IV  Reg. V  Reg. VI  Reg. VII  Reg. VIII  \n",
       "0    106.58   110.20  106.43   106.76    106.40     105.87  \n",
       "1    111.87   120.07  111.14   109.97    112.97     110.52  \n",
       "2    103.07   111.94  109.30   104.26    103.48     102.30  \n",
       "3    121.11   125.04  122.34   116.25    125.76     110.15  \n",
       "4    111.01   112.11  113.30   139.49    134.29     120.79  "
      ]
     },
     "execution_count": 10,
     "metadata": {},
     "output_type": "execute_result"
    }
   ],
   "source": [
    "df.head()"
   ]
  },
  {
   "cell_type": "markdown",
   "metadata": {},
   "source": [
    "#### **Variables identificadas:**\n",
    "\n",
    "- **Año:** \n",
    "- **Mes:**\n",
    "- **Código:**\n",
    "- **Rep:**\n",
    "- **Región 1:**\n",
    "- **Región 2:**\n",
    "- **Región 3:**\n",
    "- **Región 4:**\n",
    "- **Región 5:**\n",
    "- **Región 6:**\n",
    "- **Región 7:**\n",
    "- **Región 8:**"
   ]
  },
  {
   "cell_type": "markdown",
   "metadata": {},
   "source": [
    "**Estadísticas descriptivas de las variables numéricas**"
   ]
  },
  {
   "cell_type": "code",
   "execution_count": 13,
   "metadata": {},
   "outputs": [
    {
     "data": {
      "text/html": [
       "<div>\n",
       "<style scoped>\n",
       "    .dataframe tbody tr th:only-of-type {\n",
       "        vertical-align: middle;\n",
       "    }\n",
       "\n",
       "    .dataframe tbody tr th {\n",
       "        vertical-align: top;\n",
       "    }\n",
       "\n",
       "    .dataframe thead th {\n",
       "        text-align: right;\n",
       "    }\n",
       "</style>\n",
       "<table border=\"1\" class=\"dataframe\">\n",
       "  <thead>\n",
       "    <tr style=\"text-align: right;\">\n",
       "      <th></th>\n",
       "      <th>Unnamed: 0</th>\n",
       "      <th>Año</th>\n",
       "      <th>Código</th>\n",
       "      <th>Rep.</th>\n",
       "      <th>Reg. I</th>\n",
       "      <th>Reg. II</th>\n",
       "      <th>Reg. III</th>\n",
       "      <th>Reg. IV</th>\n",
       "      <th>Reg. V</th>\n",
       "      <th>Reg. VI</th>\n",
       "      <th>Reg. VII</th>\n",
       "      <th>Reg. VIII</th>\n",
       "    </tr>\n",
       "  </thead>\n",
       "  <tbody>\n",
       "    <tr>\n",
       "      <th>count</th>\n",
       "      <td>69406.000000</td>\n",
       "      <td>69406.000000</td>\n",
       "      <td>6.940600e+04</td>\n",
       "      <td>69406.000000</td>\n",
       "      <td>69406.000000</td>\n",
       "      <td>69406.000000</td>\n",
       "      <td>69406.000000</td>\n",
       "      <td>69406.000000</td>\n",
       "      <td>69406.000000</td>\n",
       "      <td>69406.000000</td>\n",
       "      <td>69406.000000</td>\n",
       "      <td>69406.000000</td>\n",
       "    </tr>\n",
       "    <tr>\n",
       "      <th>mean</th>\n",
       "      <td>1600.098017</td>\n",
       "      <td>2012.164222</td>\n",
       "      <td>3.402902e+05</td>\n",
       "      <td>145.155011</td>\n",
       "      <td>133.033421</td>\n",
       "      <td>172.974989</td>\n",
       "      <td>135.328651</td>\n",
       "      <td>230.645981</td>\n",
       "      <td>137.125293</td>\n",
       "      <td>132.134601</td>\n",
       "      <td>156.046533</td>\n",
       "      <td>147.297774</td>\n",
       "    </tr>\n",
       "    <tr>\n",
       "      <th>std</th>\n",
       "      <td>949.188526</td>\n",
       "      <td>6.274133</td>\n",
       "      <td>3.844830e+05</td>\n",
       "      <td>145.217644</td>\n",
       "      <td>64.678597</td>\n",
       "      <td>396.842367</td>\n",
       "      <td>107.327489</td>\n",
       "      <td>1336.353370</td>\n",
       "      <td>91.226810</td>\n",
       "      <td>78.941524</td>\n",
       "      <td>221.945078</td>\n",
       "      <td>232.610948</td>\n",
       "    </tr>\n",
       "    <tr>\n",
       "      <th>min</th>\n",
       "      <td>0.000000</td>\n",
       "      <td>2001.000000</td>\n",
       "      <td>0.000000e+00</td>\n",
       "      <td>0.000000</td>\n",
       "      <td>0.000000</td>\n",
       "      <td>0.000000</td>\n",
       "      <td>0.000000</td>\n",
       "      <td>0.000000</td>\n",
       "      <td>0.000000</td>\n",
       "      <td>0.000000</td>\n",
       "      <td>0.000000</td>\n",
       "      <td>0.000000</td>\n",
       "    </tr>\n",
       "    <tr>\n",
       "      <th>25%</th>\n",
       "      <td>788.000000</td>\n",
       "      <td>2007.000000</td>\n",
       "      <td>4.311100e+04</td>\n",
       "      <td>108.360000</td>\n",
       "      <td>107.200000</td>\n",
       "      <td>105.790000</td>\n",
       "      <td>106.311336</td>\n",
       "      <td>106.270000</td>\n",
       "      <td>105.690000</td>\n",
       "      <td>105.430000</td>\n",
       "      <td>103.840000</td>\n",
       "      <td>104.580000</td>\n",
       "    </tr>\n",
       "    <tr>\n",
       "      <th>50%</th>\n",
       "      <td>1577.000000</td>\n",
       "      <td>2013.000000</td>\n",
       "      <td>1.171110e+05</td>\n",
       "      <td>117.890000</td>\n",
       "      <td>118.205000</td>\n",
       "      <td>116.050000</td>\n",
       "      <td>117.860000</td>\n",
       "      <td>119.770000</td>\n",
       "      <td>115.890000</td>\n",
       "      <td>114.510000</td>\n",
       "      <td>113.900000</td>\n",
       "      <td>113.270000</td>\n",
       "    </tr>\n",
       "    <tr>\n",
       "      <th>75%</th>\n",
       "      <td>2366.000000</td>\n",
       "      <td>2018.000000</td>\n",
       "      <td>6.111030e+05</td>\n",
       "      <td>137.640000</td>\n",
       "      <td>138.115000</td>\n",
       "      <td>136.810000</td>\n",
       "      <td>135.660000</td>\n",
       "      <td>142.380000</td>\n",
       "      <td>134.530000</td>\n",
       "      <td>133.120000</td>\n",
       "      <td>136.050000</td>\n",
       "      <td>130.790000</td>\n",
       "    </tr>\n",
       "    <tr>\n",
       "      <th>max</th>\n",
       "      <td>3503.000000</td>\n",
       "      <td>2022.000000</td>\n",
       "      <td>1.251105e+06</td>\n",
       "      <td>3992.220000</td>\n",
       "      <td>2209.690000</td>\n",
       "      <td>9879.290000</td>\n",
       "      <td>3436.830000</td>\n",
       "      <td>60211.130000</td>\n",
       "      <td>2285.100000</td>\n",
       "      <td>2168.580000</td>\n",
       "      <td>5182.990000</td>\n",
       "      <td>6798.260000</td>\n",
       "    </tr>\n",
       "  </tbody>\n",
       "</table>\n",
       "</div>"
      ],
      "text/plain": [
       "         Unnamed: 0           Año        Código          Rep.        Reg. I  \\\n",
       "count  69406.000000  69406.000000  6.940600e+04  69406.000000  69406.000000   \n",
       "mean    1600.098017   2012.164222  3.402902e+05    145.155011    133.033421   \n",
       "std      949.188526      6.274133  3.844830e+05    145.217644     64.678597   \n",
       "min        0.000000   2001.000000  0.000000e+00      0.000000      0.000000   \n",
       "25%      788.000000   2007.000000  4.311100e+04    108.360000    107.200000   \n",
       "50%     1577.000000   2013.000000  1.171110e+05    117.890000    118.205000   \n",
       "75%     2366.000000   2018.000000  6.111030e+05    137.640000    138.115000   \n",
       "max     3503.000000   2022.000000  1.251105e+06   3992.220000   2209.690000   \n",
       "\n",
       "            Reg. II      Reg. III       Reg. IV        Reg. V       Reg. VI  \\\n",
       "count  69406.000000  69406.000000  69406.000000  69406.000000  69406.000000   \n",
       "mean     172.974989    135.328651    230.645981    137.125293    132.134601   \n",
       "std      396.842367    107.327489   1336.353370     91.226810     78.941524   \n",
       "min        0.000000      0.000000      0.000000      0.000000      0.000000   \n",
       "25%      105.790000    106.311336    106.270000    105.690000    105.430000   \n",
       "50%      116.050000    117.860000    119.770000    115.890000    114.510000   \n",
       "75%      136.810000    135.660000    142.380000    134.530000    133.120000   \n",
       "max     9879.290000   3436.830000  60211.130000   2285.100000   2168.580000   \n",
       "\n",
       "           Reg. VII     Reg. VIII  \n",
       "count  69406.000000  69406.000000  \n",
       "mean     156.046533    147.297774  \n",
       "std      221.945078    232.610948  \n",
       "min        0.000000      0.000000  \n",
       "25%      103.840000    104.580000  \n",
       "50%      113.900000    113.270000  \n",
       "75%      136.050000    130.790000  \n",
       "max     5182.990000   6798.260000  "
      ]
     },
     "execution_count": 13,
     "metadata": {},
     "output_type": "execute_result"
    }
   ],
   "source": [
    "df.describe()"
   ]
  },
  {
   "cell_type": "markdown",
   "metadata": {},
   "source": [
    "**Las estadísticas descriptivas muestran los siguientes puntos sobre las variables numéricas:**\n",
    "\n",
    "- Los años de estudio varían entre el 2001 y el 2022.\n",
    "- "
   ]
  },
  {
   "cell_type": "markdown",
   "metadata": {},
   "source": [
    "**Verificar existencia de valores nulos**"
   ]
  },
  {
   "cell_type": "code",
   "execution_count": 15,
   "metadata": {},
   "outputs": [
    {
     "data": {
      "text/plain": [
       "Unnamed: 0     0\n",
       "Año            0\n",
       "Mes            0\n",
       "Código         0\n",
       "Descripción    0\n",
       "Rep.           0\n",
       "Reg. I         0\n",
       "Reg. II        0\n",
       "Reg. III       0\n",
       "Reg. IV        0\n",
       "Reg. V         0\n",
       "Reg. VI        0\n",
       "Reg. VII       0\n",
       "Reg. VIII      0\n",
       "dtype: int64"
      ]
     },
     "execution_count": 15,
     "metadata": {},
     "output_type": "execute_result"
    }
   ],
   "source": [
    "df.isnull().sum()"
   ]
  },
  {
   "cell_type": "code",
   "execution_count": null,
   "metadata": {},
   "outputs": [],
   "source": []
  }
 ],
 "metadata": {
  "kernelspec": {
   "display_name": "Python 3 (ipykernel)",
   "language": "python",
   "name": "python3"
  },
  "language_info": {
   "codemirror_mode": {
    "name": "ipython",
    "version": 3
   },
   "file_extension": ".py",
   "mimetype": "text/x-python",
   "name": "python",
   "nbconvert_exporter": "python",
   "pygments_lexer": "ipython3",
   "version": "3.12.1"
  }
 },
 "nbformat": 4,
 "nbformat_minor": 4
}
